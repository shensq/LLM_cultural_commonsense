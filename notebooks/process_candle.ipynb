{
 "cells": [
  {
   "cell_type": "code",
   "execution_count": null,
   "metadata": {},
   "outputs": [],
   "source": [
    "import json\n",
    "import os\n",
    "import sys\n",
    "import time\n",
    "import copy\n",
    "import numpy as np\n",
    "import pandas as pd"
   ]
  },
  {
   "cell_type": "code",
   "execution_count": null,
   "metadata": {},
   "outputs": [],
   "source": [
    "with open(\"../data/candle/candle_dataset_v1.jsonl\", \"r\") as f:\n",
    "    data = f.readlines()\n",
    "    data = [json.loads(line) for line in data]\n",
    "data = [d for d in data if d[\"domain\"] == \"countries\"]\n",
    "for d in data:\n",
    "    d.pop(\"raw_sentences\")\n",
    "print(len(data))"
   ]
  },
  {
   "cell_type": "code",
   "execution_count": null,
   "metadata": {},
   "outputs": [],
   "source": [
    "from collections import Counter\n",
    "counter = Counter([d[\"subject\"] for d in data])\n",
    "print(counter.most_common(10))\n",
    "print(counter[\"Iran\"])\n",
    "print(counter[\"Kenya\"])"
   ]
  },
  {
   "cell_type": "code",
   "execution_count": null,
   "metadata": {},
   "outputs": [],
   "source": [
    "import copy\n",
    "country_mapping = {\"United States\": [\"United States of America\",\"United States\", \"U.S.A.\", \"U.S.\", \"USA\", \"US\", \"Americans\", \"American\", \"America\", ],\n",
    "                   \"India\": [\"Indians\",  \"Indian\", \"India\", ],\n",
    "                   \"China\": [\"China\",\"Chinese\"],\n",
    "                   \"Iran\": [\"Iranians\",\"Iranian\", \"Iran\", \"Persians\", \"Persian\", \"Persia\", ],\n",
    "                   \"Kenya\": [\"Kenyans\", \"Kenyan\", \"Kenya\", ]}\n",
    "\n",
    "\n",
    "for s in data:\n",
    "    if s[\"subject\"] not in country_mapping:\n",
    "        continue\n",
    "    for alias in country_mapping[s[\"subject\"]]:\n",
    "        if alias in s[\"assertion\"]:\n",
    "            s[\"assertion\"] = s[\"assertion\"].replace(alias, \"<mask>\")\n",
    "            s[\"blank\"] = alias\n",
    "        # s[\"assertion\"] = s[\"assertion\"].replace(alias, \"<mask>\")\n",
    "        \n",
    "        "
   ]
  },
  {
   "cell_type": "code",
   "execution_count": null,
   "metadata": {},
   "outputs": [],
   "source": [
    "import random\n",
    "random.seed(42)\n",
    "samples = {}\n",
    "\n",
    "def get_top_samples(data, country, number=100):\n",
    "    data_country = [d for d in data if d[\"subject\"] == country and d[\"assertion\"].count(\"<mask>\")==1]\n",
    "    sorted_data = sorted(data_country, key=lambda x: x['combined_score'], reverse=True)\n",
    "\n",
    "    if len(sorted_data) < number:\n",
    "        print(f\"Warning: {country} has only {len(sorted_data)} samples\")\n",
    "    return sorted_data[:number]\n",
    "\n",
    "for country in country_mapping.keys():\n",
    "    samples[country] = get_top_samples(data, country, 140)\n",
    "\n"
   ]
  },
  {
   "cell_type": "code",
   "execution_count": null,
   "metadata": {},
   "outputs": [],
   "source": [
    "inputs_country = {} # lang, country {\"prompt\":, \"answer\":}\n",
    "\n",
    "\n",
    "for country in country_mapping.keys():\n",
    "    inputs_country[country] = []\n",
    "    for sample in samples[country]:\n",
    "        inputs_country[country].append({\"prompt\": sample[\"assertion\"], \"answer\": sample[\"blank\"]})"
   ]
  },
  {
   "cell_type": "code",
   "execution_count": null,
   "metadata": {},
   "outputs": [],
   "source": [
    "with open(\"../data/candle/inputs_country.json\", 'w', encoding='utf-8') as json_file:\n",
    "    json.dump(inputs_country, json_file, ensure_ascii=False, indent=4)\n"
   ]
  },
  {
   "cell_type": "markdown",
   "metadata": {},
   "source": [
    "## Translate"
   ]
  },
  {
   "cell_type": "code",
   "execution_count": null,
   "metadata": {},
   "outputs": [],
   "source": [
    "import requests, uuid, json\n",
    "from tqdm import tqdm \n",
    "from api_keys import msft_key "
   ]
  },
  {
   "cell_type": "code",
   "execution_count": null,
   "metadata": {},
   "outputs": [],
   "source": [
    "# Add your key and endpoint\n",
    "key = msft_key\n",
    "endpoint = \"https://api.cognitive.microsofttranslator.com\"\n",
    "\n",
    "# location, also known as region.\n",
    "# required if you're using a multi-service or regional (not global) resource. It can be found in the Azure portal on the Keys and Endpoint page.\n",
    "location = \"eastus\"\n",
    "\n",
    "path = '/translate'\n",
    "constructed_url = endpoint + path\n",
    "\n",
    "def set_header(country):\n",
    "    country_lang_mapping = {\"United States\":\"en\",\n",
    "                        \"India\":'hi',\n",
    "                        \"China\":'zh-Hans',\n",
    "                        \"Iran\":'fa',\n",
    "                        \"Kenya\":'sw',}\n",
    "    \n",
    "    lang_list = ['en', 'zh-Hans',\"hi\",\"fa\",\"sw\",]\n",
    "    from_lang = 'en'\n",
    "    to_lang = country_lang_mapping[country]\n",
    "    \n",
    "    lang_list.remove(from_lang)\n",
    "\n",
    "    params = {\n",
    "        'api-version': '3.0',\n",
    "        'from': from_lang,\n",
    "        'to': to_lang,\n",
    "    }\n",
    "\n",
    "    headers = {\n",
    "        'Ocp-Apim-Subscription-Key': key,\n",
    "        # location required if you're using a multi-service or regional (not global) resource.\n",
    "        'Ocp-Apim-Subscription-Region': location,\n",
    "        'Content-type': 'application/json',\n",
    "        'X-ClientTraceId': str(uuid.uuid4()),\n",
    "    }\n",
    "    return params, headers\n"
   ]
  },
  {
   "cell_type": "code",
   "execution_count": null,
   "metadata": {},
   "outputs": [],
   "source": [
    "with open(\"../data/candle/inputs_country.json\", 'r', encoding='utf-8') as json_file:\n",
    "    inputs_country = json.load(json_file)\n",
    "\n",
    "country_translation = {\"the United States\": \"America\",\n",
    "                       \"China\": \"中国\",\n",
    "                       \"Iran\": \"ایران\",\n",
    "                        \"India\": \"भारत\",\n",
    "                        \"Kenya\":\"Kenya\"\n",
    "                       }\n"
   ]
  },
  {
   "cell_type": "code",
   "execution_count": null,
   "metadata": {},
   "outputs": [],
   "source": [
    "\n",
    "inputs_lang_country = {}\n",
    "inputs_lang_country['en'] = {}\n",
    "\n",
    "for country in inputs_country:\n",
    "    print(country)\n",
    "    params, headers = set_header(country)\n",
    "\n",
    "    # translate \n",
    "    translated_lang = params['to']\n",
    "\n",
    "    if translated_lang not in inputs_lang_country:\n",
    "        inputs_lang_country[translated_lang] = {}\n",
    "    inputs_lang_country[translated_lang][country] = []\n",
    "    inputs_lang_country['en'][country] = []\n",
    "\n",
    "    for sample in tqdm(inputs_country[country][:]):\n",
    "        \n",
    "        if translated_lang != 'en':\n",
    "            text = sample['prompt'].replace(\"<mask>\", sample[\"answer\"])\n",
    "            body = [{'text': text}]\n",
    "            request = requests.post(constructed_url, params=params, headers=headers, json=body)\n",
    "            response = request.json()\n",
    "            response = response[0]['translations'][0]['text']\n",
    "            if country_translation[country] in response:\n",
    "                answer = country_translation[country]\n",
    "                response = response.replace(country_translation[country], \"<mask>\")\n",
    "                inputs_lang_country[translated_lang][country].append({\"prompt\":response, \"answer\":answer})\n",
    "                inputs_lang_country['en'][country].append(sample.copy())\n",
    "        else:\n",
    "            inputs_lang_country['en'][country].append(sample.copy())\n",
    "    \n",
    "    print(len(inputs_lang_country['en'][country]))\n"
   ]
  },
  {
   "cell_type": "code",
   "execution_count": null,
   "metadata": {},
   "outputs": [],
   "source": [
    "with open(\"../data/candle/samples_lang_country.json\", 'w', encoding='utf-8') as json_file:\n",
    "    json.dump(inputs_lang_country, json_file, ensure_ascii=False, indent=4)\n"
   ]
  },
  {
   "cell_type": "code",
   "execution_count": null,
   "metadata": {},
   "outputs": [],
   "source": [
    "prompt_task = {'zh-Hans':\"用国名完成句子：\",\n",
    "        'en':'Complete the sentence with a country name:',\n",
    "        'hi': \"किसी देश के नाम के साथ वाक्य पूरा करें:\",\n",
    "        'fa':\"جمله را با نام کشور تکمیل کنید:\",\n",
    "        'sw':\"Kamilisha sentensi kwa jina la nchi:\",\n",
    "        }\n",
    "\n",
    "prompt_format = {'zh-Hans':\"以 {“答案”： } 的 json 格式回答。\",\n",
    "            'en':\"Answer in the json format of {\\\"Answer\\\": }.\",\n",
    "            'hi':\"{\\\"उत्तर\\\": } के json स्वरूप में उत्तर दें।\",\n",
    "            'fa': \"پاسخ در قالب json {\\\"پاسخ\\\": }.\",\n",
    "            'sw':\"Jibu katika umbizo la json la {\\\"Answer\\\": }.\",\n",
    "        }"
   ]
  },
  {
   "cell_type": "code",
   "execution_count": null,
   "metadata": {},
   "outputs": [],
   "source": [
    "inputs_lang_country_truncated = copy.deepcopy(inputs_lang_country)\n",
    "\n",
    "for lang in inputs_lang_country_truncated:\n",
    "    for country in inputs_lang_country_truncated[lang]:\n",
    "        inputs_lang_country_truncated[lang][country] = inputs_lang_country_truncated[lang][country][:100]\n",
    "        for sample in inputs_lang_country_truncated[lang][country]:\n",
    "            sample[\"prompt\"] = prompt_task[lang] + '\\n' + sample[\"prompt\"] + '\\n' +prompt_format[lang]\n"
   ]
  },
  {
   "cell_type": "code",
   "execution_count": null,
   "metadata": {},
   "outputs": [],
   "source": [
    "with open(\"../data/candle/inputs_lang_country.json\", 'w', encoding='utf-8') as json_file:\n",
    "    json.dump(inputs_lang_country_truncated, json_file, ensure_ascii=False, indent=4)\n"
   ]
  },
  {
   "cell_type": "code",
   "execution_count": null,
   "metadata": {},
   "outputs": [],
   "source": []
  }
 ],
 "metadata": {
  "kernelspec": {
   "display_name": "Python 3 (ipykernel)",
   "language": "python",
   "name": "python3"
  },
  "language_info": {
   "codemirror_mode": {
    "name": "ipython",
    "version": 3
   },
   "file_extension": ".py",
   "mimetype": "text/x-python",
   "name": "python",
   "nbconvert_exporter": "python",
   "pygments_lexer": "ipython3",
   "version": "3.10.4"
  },
  "orig_nbformat": 4
 },
 "nbformat": 4,
 "nbformat_minor": 2
}
