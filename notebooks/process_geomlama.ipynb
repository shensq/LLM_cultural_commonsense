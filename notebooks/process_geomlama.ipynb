{
 "cells": [
  {
   "cell_type": "code",
   "execution_count": null,
   "metadata": {},
   "outputs": [],
   "source": [
    "import os\n",
    "import re\n",
    "import json \n",
    "import pandas as pd\n",
    "import numpy as np\n",
    "\n",
    "from glob import glob\n",
    "from tqdm import tqdm "
   ]
  },
  {
   "cell_type": "code",
   "execution_count": null,
   "metadata": {},
   "outputs": [],
   "source": [
    "\n",
    "\n",
    "\n",
    "def get_base_samples():\n",
    "    def separate_by_country(df):\n",
    "        outputs = {}\n",
    "        country_list = [\"us\",'china','india','iran','kenya']\n",
    "        for i, country in enumerate(country_list):\n",
    "            outputs[country] = df.iloc[i::5].values.tolist()\n",
    "        return outputs\n",
    "    # Get the base samples from **_lang.tsv \n",
    "    files = glob('../data/geomlama/gd_prompt_??.tsv')\n",
    "    samples = {}\n",
    "    for file in files:\n",
    "        lang = file.split('_')[-1].split('.')[0]\n",
    "        df = pd.read_csv(file, sep='\\t', header=0)\n",
    "        df = df[['Prompt','Ans', 'Candidate Ans']]\n",
    "        df.dropna(inplace=True)\n",
    "        df = df.reset_index(drop=True)\n",
    "        samples[lang] = df\n",
    "        samples[lang] = separate_by_country(samples[lang])\n",
    "    return samples\n",
    "\n",
    "\n",
    "def get_aug_samples():\n",
    "    def separate_by_country(l):\n",
    "        outputs = {}\n",
    "        country_list = [\"us\",'china','india','iran','kenya']\n",
    "        for i, country in enumerate(country_list):\n",
    "            outputs[country] = l[i::5]\n",
    "        return outputs\n",
    "    # Get the masked input samples from **_lang_aug.tsv \n",
    "    files = glob('../data/geomlama/gd_prompt_??_aug.tsv')\n",
    "    samples = {}\n",
    "    for file in files:\n",
    "        lang = file.split('_')[-2].split('.')[0]\n",
    "        data = open(file, 'r').readlines()\n",
    "        samples[lang] = data\n",
    "        samples[lang] = separate_by_country(samples[lang])\n",
    "\n",
    "    return samples\n",
    "        "
   ]
  },
  {
   "cell_type": "code",
   "execution_count": null,
   "metadata": {},
   "outputs": [],
   "source": [
    "samples_lang_country =  get_base_samples()\n",
    "samples_lang_country['zh']['us'] \n"
   ]
  },
  {
   "cell_type": "code",
   "execution_count": null,
   "metadata": {},
   "outputs": [],
   "source": [
    "\n",
    "aug_samples = get_aug_samples()\n",
    "aug_samples['zh']['us']"
   ]
  },
  {
   "cell_type": "code",
   "execution_count": null,
   "metadata": {},
   "outputs": [],
   "source": [
    "samples_merged = {}\n",
    "\n",
    "for lang in samples_lang_country:\n",
    "    samples_merged[lang] = {}\n",
    "    for country in samples_lang_country[lang]:\n",
    "        samples_merged[lang][country] = []\n",
    "        print(lang, country, len(samples_lang_country[lang][country]))\n",
    "        \n",
    "        for i, sample in enumerate(samples_lang_country[lang][country]):\n",
    "            question, answer, options = sample\n",
    "            samples_merged[lang][country].append(sample)\n",
    "            for aug_sample in aug_samples[lang][country][i*4:i*4+4]:\n",
    "                samples_merged[lang][country].append([aug_sample, answer, options])\n",
    "        "
   ]
  },
  {
   "cell_type": "code",
   "execution_count": null,
   "metadata": {},
   "outputs": [],
   "source": [
    "with open(\"../data/geomlama/merged_lang_country.json\", 'w', encoding='utf-8') as json_file:\n",
    "    json.dump(samples_merged, json_file, ensure_ascii=False, indent=4)\n"
   ]
  },
  {
   "cell_type": "code",
   "execution_count": null,
   "metadata": {},
   "outputs": [],
   "source": [
    "samples_merged['en']"
   ]
  },
  {
   "cell_type": "code",
   "execution_count": null,
   "metadata": {},
   "outputs": [],
   "source": [
    "import json \n",
    "\n",
    "\n",
    "json_file = open('../data/geomlama/merged_lang_country.json', 'r')\n",
    "samples_lang_country = json.load(json_file)"
   ]
  },
  {
   "cell_type": "code",
   "execution_count": null,
   "metadata": {},
   "outputs": [],
   "source": [
    "prompt1 = {'zh':\"选择最佳选项以填充以下句子中的空白：\",\n",
    "           'en':\"Choose the best option to fill in the blank in the following sentence: \",\n",
    "           'hi':\"निम्नलिखित वाक्य में रिक्त स्थान को भरने के लिए सबसे अच्छा विकल्प चुनें: \",\n",
    "           'fa':\"بهترین گزینه را برای پر کردن جای خالی در جمله زیر انتخاب کنید: \",\n",
    "           'sw':\"Chagua chaguo bora la kujaza tupu katika sentensi ifuatayo: \",\n",
    "           }\n",
    "\n",
    "\n",
    "prompt2 = {'zh':\"选项：\",\n",
    "              'en':\"Options: \",\n",
    "              'hi':\"विकल्प: \",\n",
    "              'fa':\"گزینه: \",\n",
    "              'sw':\"Machaguo: \",\n",
    "              }\n",
    "\n",
    "\n",
    "prompt3 = {'zh':\"以 {“答案”： } 的 json 格式回答。\",\n",
    "            'en':\"Answer in the json format of {\\\"Answer\\\": }.\",\n",
    "            'hi':\"{\\\"उत्तर\\\": } के json स्वरूप में उत्तर दें।\",\n",
    "            'fa': \"پاسخ در قالب json {\\\"پاسخ\\\": }.\",\n",
    "            'sw':\"Jibu katika umbizo la json la {\\\"Answer\\\": }.\",\n",
    "           }\n",
    "\n",
    "\n",
    "inputs_lang_country = {}\n",
    "for lang in samples_lang_country:\n",
    "    inputs_lang_country[lang] = {}\n",
    "    for country in samples_lang_country[lang]:\n",
    "        inputs_lang_country[lang][country] = []\n",
    "        for sample in samples_lang_country[lang][country]:\n",
    "            inputs_lang_country[lang][country].append({'prompt':prompt1[lang] + sample[0] + '\\n' +prompt2[lang] + sample[2] +'\\n' +  prompt3[lang], 'answer':sample[1]})\n",
    "\n",
    "with open(\"../data/geomlama/inputs_lang_country.json\", 'w', encoding='utf-8') as json_file:\n",
    "    json.dump(inputs_lang_country, json_file, ensure_ascii=False, indent=4)\n"
   ]
  }
 ],
 "metadata": {
  "kernelspec": {
   "display_name": "pytorch",
   "language": "python",
   "name": "python3"
  },
  "language_info": {
   "codemirror_mode": {
    "name": "ipython",
    "version": 3
   },
   "file_extension": ".py",
   "mimetype": "text/x-python",
   "name": "python",
   "nbconvert_exporter": "python",
   "pygments_lexer": "ipython3",
   "version": "3.10.4"
  },
  "orig_nbformat": 4
 },
 "nbformat": 4,
 "nbformat_minor": 2
}
