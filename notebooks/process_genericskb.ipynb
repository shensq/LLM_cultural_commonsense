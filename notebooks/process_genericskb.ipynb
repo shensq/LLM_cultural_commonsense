{
 "cells": [
  {
   "cell_type": "code",
   "execution_count": null,
   "metadata": {},
   "outputs": [],
   "source": [
    "import requests, uuid, json\n",
    "import random\n",
    "from tqdm import tqdm \n",
    "from api_keys import msft_key "
   ]
  },
  {
   "cell_type": "code",
   "execution_count": null,
   "metadata": {},
   "outputs": [],
   "source": [
    "# Add your key and endpoint\n",
    "key = msft_key\n",
    "endpoint = \"https://api.cognitive.microsofttranslator.com\"\n",
    "\n",
    "# location, also known as region.\n",
    "# required if you're using a multi-service or regional (not global) resource. It can be found in the Azure portal on the Keys and Endpoint page.\n",
    "location = \"eastus\"\n",
    "\n",
    "path = '/translate'\n",
    "constructed_url = endpoint + path\n",
    "\n",
    "def set_header(country=None):\n",
    "    country_lang_mapping = {\"United States\":\"en\",\n",
    "                        \"India\":'hi',\n",
    "                        \"China\":'zh-Hans',\n",
    "                        \"Iran\":'fa',\n",
    "                        \"Kenya\":'sw',}\n",
    "    \n",
    "    lang_list = ['en', 'zh-Hans',\"hi\",\"fa\",\"sw\",]\n",
    "    from_lang = 'en'\n",
    "    \n",
    "    if country:\n",
    "        to_lang = country_lang_mapping[country]\n",
    "    else:\n",
    "        to_lang = lang_list\n",
    "    \n",
    "    lang_list.remove(from_lang)\n",
    "\n",
    "    params = {\n",
    "        'api-version': '3.0',\n",
    "        'from': from_lang,\n",
    "        'to': to_lang,\n",
    "    }\n",
    "\n",
    "    headers = {\n",
    "        'Ocp-Apim-Subscription-Key': key,\n",
    "        # location required if you're using a multi-service or regional (not global) resource.\n",
    "        'Ocp-Apim-Subscription-Region': location,\n",
    "        'Content-type': 'application/json',\n",
    "        'X-ClientTraceId': str(uuid.uuid4()),\n",
    "    }\n",
    "    return params, headers\n",
    "\n",
    "\n",
    "def get_assertions(num_samples=1000):\n",
    "    # Read the assertion file and build the prompt\n",
    "    with open(\"../data/genericskb/genericskb_assertion.txt\", 'r') as f:\n",
    "        data = f.readlines()\n",
    "        data = [l.strip() for l in data]\n",
    "        # Randomly sample 1000 assertions\n",
    "        random.seed(42)\n",
    "        data = random.choices(data, k=num_samples)\n",
    "    return data\n",
    "\n",
    "\n",
    "def translate(params, headers, text):\n",
    "    body = [{'text': text}] \n",
    "    request = requests.post(constructed_url, params=params, headers=headers, json=body)\n",
    "    response = request.json()\n",
    "    return response\n"
   ]
  },
  {
   "cell_type": "code",
   "execution_count": null,
   "metadata": {},
   "outputs": [],
   "source": [
    "params, headers = set_header()\n",
    "data = get_assertions(500)\n"
   ]
  },
  {
   "cell_type": "code",
   "execution_count": null,
   "metadata": {},
   "outputs": [],
   "source": [
    "translated_assertions = [] \n",
    "for assertion in tqdm(data):\n",
    "    body = [{'text': assertion}] \n",
    "    request = requests.post(constructed_url, params=params, headers=headers, json=body)\n",
    "    response = request.json()\n",
    "    translated_assertions.append(response[0]['translations']+[{\"text\": assertion, \"to\":'en'}])"
   ]
  },
  {
   "cell_type": "code",
   "execution_count": null,
   "metadata": {},
   "outputs": [],
   "source": [
    "# Get samples with a format of {lang: country[{prompt, answer},]} \n",
    "# Task1: Verify if the assertion is correct in a certain culture.\n",
    "# Task2: Let the model select the plausible country for the assertion.\n",
    "inputs_lang_country = {}\n",
    "country_lang_mapping = {\"the United States\":\"en\",\n",
    "                    \"India\":'hi',\n",
    "                    \"China\":'zh-Hans',\n",
    "                    \"Iran\":'fa',\n",
    "                    \"Kenya\":'sw',}\n",
    "lang_country_mapping = {v: k for k, v in country_lang_mapping.items()}\n",
    "\n",
    "for lang, country in lang_country_mapping.items():\n",
    "    inputs_lang_country[lang] = {}\n",
    "    inputs_lang_country[lang][country] = []\n",
    "\n",
    "for assertion_lang in translated_assertions:\n",
    "    for assertion in assertion_lang:\n",
    "        lang = assertion['to']\n",
    "        country = lang_country_mapping[lang]\n",
    "        inputs_lang_country[lang][country].append({\"prompt\": assertion['text'], \"answer\": \"\"})\n",
    "\n",
    "\n",
    "with open(\"../data/genericskb/inputs_lang_country_base.json\", 'w', encoding='utf-8') as json_file:\n",
    "    json.dump(inputs_lang_country, json_file, ensure_ascii=False, indent=4)\n",
    "\n"
   ]
  },
  {
   "cell_type": "markdown",
   "metadata": {},
   "source": [
    "## Add prompt for assertion verification "
   ]
  },
  {
   "cell_type": "code",
   "execution_count": null,
   "metadata": {},
   "outputs": [],
   "source": [
    "inputs_lang_country['en']['the United States'][0]"
   ]
  },
  {
   "cell_type": "code",
   "execution_count": null,
   "metadata": {},
   "outputs": [],
   "source": [
    "params, headers = set_header() \n",
    "translate(params, headers, 'True')"
   ]
  },
  {
   "cell_type": "code",
   "execution_count": null,
   "metadata": {},
   "outputs": [],
   "source": [
    "# Add the prompt for all countries in English\n",
    "prompt_task = {'zh-Hans':\"这在中国是真是假？\",\n",
    "        'en':'Is this true or false in the United States?',\n",
    "        'hi': 'भारत में यह सच है या झूठ?',\n",
    "        'fa': 'ایا این در ایران درست است یا غلط؟',\n",
    "        'sw': 'Je, hii ni kweli au ni uongo nchini Kenya?',\n",
    "        }\n",
    "\n",
    "prompt_format = {'zh-Hans':\"以 {“答案”： } 的 json 格式回答。\",\n",
    "            'en':\"Answer in the json format of {\\\"Answer\\\": }.\",\n",
    "            'hi':\"{\\\"उत्तर\\\": } के json स्वरूप में उत्तर दें।\",\n",
    "            'fa': \"پاسخ در قالب json {\\\"پاسخ\\\": }.\",\n",
    "            'sw':\"Jibu katika umbizo la json la {\\\"Answer\\\": }.\",\n",
    "        }\n",
    "\n",
    "prompt_answer = {'zh-Hans':'真',\n",
    "            'en':\"True\",\n",
    "            'hi':'सच्चा',\n",
    "            'fa': 'واقعی',\n",
    "            'sw': 'Kweli',\n",
    "        }\n"
   ]
  },
  {
   "cell_type": "code",
   "execution_count": null,
   "metadata": {},
   "outputs": [],
   "source": [
    "with open(\"../data/genericskb/inputs_lang_country_base.json\", 'r', encoding='utf-8') as json_file:\n",
    "    inputs_lang_country_base = json.load(json_file)\n",
    "\n",
    "\n",
    "inputs_lang_country = {}\n",
    "inputs_lang_country['en'] = {}\n",
    "\n",
    "# Add the prompt to all countries in English \n",
    "for country,lang in country_lang_mapping.items():\n",
    "    inputs_lang_country['en'][country] = []\n",
    "    for assertion in inputs_lang_country_base['en']['the United States']:\n",
    "        prompt = assertion['prompt'] + \" Is this True or False in {}? \".format(country) + prompt_format['en']\n",
    "        answer = \"True\"\n",
    "        inputs_lang_country['en'][country].append({'prompt': prompt, 'answer': answer})\n",
    "\n",
    "# Add the prompt to all countries in native language\n",
    "#  \n",
    "for country,lang in country_lang_mapping.items():\n",
    "    if lang == 'en':\n",
    "        continue\n",
    "    inputs_lang_country[lang] = {}\n",
    "    inputs_lang_country[lang][country] = []\n",
    "    for assertion in inputs_lang_country_base[lang][country]:\n",
    "        prompt = assertion['prompt'] + ' ' +prompt_task[lang] + ' ' + prompt_format[lang]\n",
    "        answer = prompt_answer[lang]\n",
    "        inputs_lang_country[lang][country].append({'prompt': prompt, 'answer': answer})\n"
   ]
  },
  {
   "cell_type": "code",
   "execution_count": null,
   "metadata": {},
   "outputs": [],
   "source": [
    "with open(\"../data/genericskb/inputs_lang_country_verification.json\", 'w', encoding='utf-8') as json_file:\n",
    "    json.dump(inputs_lang_country, json_file, ensure_ascii=False, indent=4)"
   ]
  },
  {
   "cell_type": "markdown",
   "metadata": {},
   "source": [
    "## Add prompt for association"
   ]
  },
  {
   "cell_type": "code",
   "execution_count": null,
   "metadata": {},
   "outputs": [],
   "source": [
    "translate(params, headers, \"Kenya\")"
   ]
  },
  {
   "cell_type": "code",
   "execution_count": null,
   "metadata": {},
   "outputs": [],
   "source": [
    "prompt_task = {'zh-Hans':'上一句描述了在以下哪个国家/地区发生的事情？伊朗、中国、美国、印度、肯尼亚。',\n",
    "        'en':\"The previous sentence describes things that happen in which one of the following countries? Iran, China, the United States, India, Kenya.\",\n",
    "        'hi': 'पिछला वाक्य निम्नलिखित में से किस एक देश में होने वाली चीजों का वर्णन करता है? ईरान, चीन, संयुक्त राज्य अमेरिका, भारत, केन्या।',\n",
    "        'fa': 'جمله قبلی چیزهایی را توصیف می کند که در کدام یک از کشورهای زیر اتفاق می افتد؟ ایران، چین، ایالات متحده، هند، کنیا.',\n",
    "        'sw': 'Sentensi ya awali inaelezea mambo ambayo hutokea katika moja ya nchi zifuatazo? Iran, China, Marekani, India, Kenya.',\n",
    "        }\n",
    "\n",
    "prompt_format = {'zh-Hans':\"以 {“答案”： } 的 json 格式回答。\",\n",
    "            'en':\"Answer in the json format of {\\\"Answer\\\": }.\",\n",
    "            'hi':\"{\\\"उत्तर\\\": } के json स्वरूप में उत्तर दें।\",\n",
    "            'fa': \"پاسخ در قالب json {\\\"پاسخ\\\": }.\",\n",
    "            'sw':\"Jibu katika umbizo la json la {\\\"Answer\\\": }.\",\n",
    "        }\n",
    "\n",
    "prompt_answer = {'zh-Hans':'中国',\n",
    "            'en':\"the United States\",\n",
    "            'hi':'भारत',\n",
    "            'fa': 'ایران',\n",
    "            'sw': 'Kenya',\n",
    "        }\n"
   ]
  },
  {
   "cell_type": "code",
   "execution_count": null,
   "metadata": {},
   "outputs": [],
   "source": [
    "with open(\"../data/genericskb/inputs_lang_country_base.json\", 'r', encoding='utf-8') as json_file:\n",
    "    inputs_lang_country_base = json.load(json_file)\n",
    "\n",
    "\n",
    "inputs_lang_country = {}\n",
    "inputs_lang_country['en'] = {}\n",
    "\n",
    "# Add the prompt to all countries in native language\n",
    "for country,lang in country_lang_mapping.items():\n",
    "    inputs_lang_country[lang] = {}\n",
    "    inputs_lang_country[lang][country] = []\n",
    "    for assertion in inputs_lang_country_base[lang][country]:\n",
    "        prompt = assertion['prompt'] + ' ' +prompt_task[lang] + ' ' + prompt_format[lang]\n",
    "        answer = prompt_answer[lang]\n",
    "        inputs_lang_country[lang][country].append({'prompt': prompt, 'answer': answer})\n",
    "\n",
    "with open(\"../data/genericskb/inputs_lang_country_association.json\", 'w', encoding='utf-8') as json_file:\n",
    "    json.dump(inputs_lang_country, json_file, ensure_ascii=False, indent=4)\n"
   ]
  },
  {
   "cell_type": "code",
   "execution_count": null,
   "metadata": {},
   "outputs": [],
   "source": []
  }
 ],
 "metadata": {
  "kernelspec": {
   "display_name": "pytorch",
   "language": "python",
   "name": "python3"
  },
  "language_info": {
   "codemirror_mode": {
    "name": "ipython",
    "version": 3
   },
   "file_extension": ".py",
   "mimetype": "text/x-python",
   "name": "python",
   "nbconvert_exporter": "python",
   "pygments_lexer": "ipython3",
   "version": "3.10.4"
  },
  "orig_nbformat": 4
 },
 "nbformat": 4,
 "nbformat_minor": 2
}
